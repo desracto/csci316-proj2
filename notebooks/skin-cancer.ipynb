{
 "cells": [
  {
   "cell_type": "markdown",
   "metadata": {},
   "source": [
    "# Skin Cancer Detection\n",
    "\n",
    "Problem: The human body is a very weird thing. Random spots can pop up and certain areas may turn a weird colour. This is especially prevalent on the skin. Having an application that can tell you if a certain spot on the skin is "
   ]
  },
  {
   "cell_type": "code",
   "execution_count": null,
   "metadata": {},
   "outputs": [],
   "source": []
  }
 ],
 "metadata": {
  "language_info": {
   "name": "python"
  }
 },
 "nbformat": 4,
 "nbformat_minor": 2
}
